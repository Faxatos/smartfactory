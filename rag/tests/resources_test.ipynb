{
 "cells": [
  {
   "cell_type": "code",
   "execution_count": 1,
   "metadata": {},
   "outputs": [],
   "source": [
    "import os\n",
    "import sys\n",
    "from tqdm import tqdm\n",
    "import time\n",
    "from api import endpoints"
   ]
  },
  {
   "cell_type": "code",
   "execution_count": 2,
   "metadata": {},
   "outputs": [
    {
     "name": "stdout",
     "output_type": "stream",
     "text": [
      "['Compute me power for Laser cutter on 12/10/2024', 'Compute me idle time both for Riveting Machine and Laser cutter on 12/10/2024', 'Predict idle time both for Riveting Machine and Laser cutter for today based on last month values', 'Predict next week cycles of Large Capacity Cutting Machine 1 based on current trend', 'Return me the report about last month', 'Generate a new KPI that shows the idle time ratio', 'Which is most suitable dashboard to visualize energy consumption?', 'What formula is used to calculate operative_time ?', 'Can you tell me a description of Large Capacity Cutting Machine 1 ?', 'Can you tell me how many Cutting Machines are there ?', \"What's the Power Consumption Trend's formula ?\", 'Describe me cost_max KPI', 'What is cost_working_avg unit of measure ?', 'Can you tell me how many Assembly Machines are there ?', 'What formula is used to calculate Power Consumption Efficiency ?', 'Describe me material cost per unit', 'Can you tell me a description of availability ?']\n"
     ]
    }
   ],
   "source": [
    "# Read the request form the dataset\n",
    "dataset = open(\"resources_dataset.txt\",\"r\")\n",
    "text = []\n",
    "for line in dataset:\n",
    "    if line.strip():  # Check if the line is not empty\n",
    "        text.append(line.strip())\n",
    "dataset.close()\n",
    "\n",
    "print(text)"
   ]
  },
  {
   "cell_type": "code",
   "execution_count": 3,
   "metadata": {},
   "outputs": [
    {
     "name": "stderr",
     "output_type": "stream",
     "text": [
      "100%|██████████| 17/17 [05:40<00:00, 20.01s/it]\n"
     ]
    }
   ],
   "source": [
    "# Call the endpoint\n",
    "import requests\n",
    "\n",
    "total = len(text)\n",
    "\n",
    "with tqdm(total=total) as bar:\n",
    "    for question in text:\n",
    "        local_time = time.time()\n",
    "        response = requests.post('http://127.0.0.1:8000/ask', json={'text': question})\n",
    "        bar.update(1)\n",
    "        # Request rate must be limited (free API limit)\n",
    "        sleep_time = 20 - (time.time() - local_time) + 0.01\n",
    "        if sleep_time > 0:\n",
    "            time.sleep(sleep_time)"
   ]
  },
  {
   "cell_type": "code",
   "execution_count": 50,
   "metadata": {},
   "outputs": [
    {
     "name": "stdout",
     "output_type": "stream",
     "text": [
      "Total runs: 88\n",
      "Input tokens: 107628\n",
      "Output tokens: 9398\n",
      "Total cost: 0.0108915\n"
     ]
    }
   ],
   "source": [
    "from langsmith import Client\n",
    "import re\n",
    "\n",
    "client = Client()\n",
    "\n",
    "project_name = \"smart_app\"\n",
    "input_token_cost = 0.075 / 1000000\n",
    "output_token_cost = 0.30 / 1000000\n",
    "\n",
    "input_token = 0\n",
    "output_token = 0\n",
    "i = 0\n",
    "for run in client.list_runs(project_name=project_name):\n",
    "    input_token += int(re.search(r\"prompt_tokens=(\\d+)\", str(run)).group(1))\n",
    "    output_token += int(re.search(r\"completion_tokens=(\\d+)\", str(run)).group(1))\n",
    "    i += 1\n",
    "\n",
    "print(f\"Total runs: {i}\")\n",
    "print(f\"Input tokens: {input_token}\")\n",
    "print(f\"Output tokens: {output_token}\")\n",
    "print(f\"Total cost: {input_token * input_token_cost + output_token * output_token_cost}\")"
   ]
  },
  {
   "cell_type": "code",
   "execution_count": null,
   "metadata": {},
   "outputs": [],
   "source": []
  }
 ],
 "metadata": {
  "kernelspec": {
   "display_name": "SmartApp",
   "language": "python",
   "name": "python3"
  },
  "language_info": {
   "codemirror_mode": {
    "name": "ipython",
    "version": 3
   },
   "file_extension": ".py",
   "mimetype": "text/x-python",
   "name": "python",
   "nbconvert_exporter": "python",
   "pygments_lexer": "ipython3",
   "version": "3.11.10"
  }
 },
 "nbformat": 4,
 "nbformat_minor": 2
}
