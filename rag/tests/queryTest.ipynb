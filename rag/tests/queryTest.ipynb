{
 "cells": [
  {
   "cell_type": "code",
   "execution_count": 3,
   "metadata": {},
   "outputs": [
    {
     "name": "stdout",
     "output_type": "stream",
     "text": [
      "[(rdflib.term.Literal('consumption_avg'), rdflib.term.Literal('This KPI is atomic, it measures the energy consumption used by a single machine over a period, considering the average.'), rdflib.term.Literal('-'), rdflib.term.Literal('kWh')), (rdflib.term.Literal('consumption_idle_avg'), rdflib.term.Literal('This KPI is atomic, it measures the energy consumption used by a single machine over a idle period, considering the average.'), rdflib.term.Literal('-'), rdflib.term.Literal('kWh')), (rdflib.term.Literal('consumption_idle_max'), rdflib.term.Literal('This KPI is atomic, it measures the energy consumption used by a single machine over a idle period, considering the maximum.'), rdflib.term.Literal('-'), rdflib.term.Literal('kWh')), (rdflib.term.Literal('consumption_idle_avg'), rdflib.term.Literal('This KPI is atomic, it measures the energy consumption used by a single machine over a idle period, considering the median.'), rdflib.term.Literal('-'), rdflib.term.Literal('kWh')), (rdflib.term.Literal('consumption_idle_min'), rdflib.term.Literal('This KPI is atomic, it measures the energy consumption used by a single machine over a idle period, considering the minimum.'), rdflib.term.Literal('-'), rdflib.term.Literal('kWh')), (rdflib.term.Literal('consumption_idle_std'), rdflib.term.Literal('This KPI is atomic, it measures the energy consumption used by a single machine over a idle period, considering the standard deviation.'), rdflib.term.Literal('-'), rdflib.term.Literal('kWh')), (rdflib.term.Literal('consumption_idle_sum'), rdflib.term.Literal('This KPI is atomic, it measures the energy consumption used by a single machine over a idle period, considering the sum.'), rdflib.term.Literal('-'), rdflib.term.Literal('kWh')), (rdflib.term.Literal('consumption_max'), rdflib.term.Literal('This KPI is atomic, it measures the energy consumption used by a single machine over a period, considering the maximum.'), rdflib.term.Literal('-'), rdflib.term.Literal('kWh')), (rdflib.term.Literal('consumption_med'), rdflib.term.Literal('This KPI is atomic, it measures the energy consumption used by a single machine over a period, considering the median.'), rdflib.term.Literal('-'), rdflib.term.Literal('kWh')), (rdflib.term.Literal('consumption_min'), rdflib.term.Literal('This KPI is atomic, it measures the energy consumption used by a single machine over a period, considering the minimum.'), rdflib.term.Literal('-'), rdflib.term.Literal('kWh')), (rdflib.term.Literal('consumption_std'), rdflib.term.Literal('This KPI is atomic, it measures the energy consumption used by a single machine over a period, considering the standard deviation.'), rdflib.term.Literal('-'), rdflib.term.Literal('kWh')), (rdflib.term.Literal('consumption_sum'), rdflib.term.Literal('This KPI is atomic, it measures the energy consumption used by a single machine over a period, considering the sum.'), rdflib.term.Literal('-'), rdflib.term.Literal('kWh')), (rdflib.term.Literal('consumption_working_avg'), rdflib.term.Literal('This KPI is atomic, it measures the energy consumption used by a single machine over a working period, considering the average.'), rdflib.term.Literal('-'), rdflib.term.Literal('kWh')), (rdflib.term.Literal('consumption_working_max'), rdflib.term.Literal('This KPI is atomic, it measures the energy consumption used by a single machine over a working period, considering the maximum.'), rdflib.term.Literal('-'), rdflib.term.Literal('kWh')), (rdflib.term.Literal('consumption_working_med'), rdflib.term.Literal('This KPI is atomic, it measures the energy consumption used by a single machine over a working period, considering the median.'), rdflib.term.Literal('-'), rdflib.term.Literal('kWh')), (rdflib.term.Literal('consumption_working_min'), rdflib.term.Literal('This KPI is atomic, it measures the energy consumption used by a single machine over a working period, considering the minimum.'), rdflib.term.Literal('-'), rdflib.term.Literal('kWh')), (rdflib.term.Literal('consumption_working_std'), rdflib.term.Literal('This KPI is atomic, it measures the energy consumption used by a single machine over a working period, considering the standard deviation.'), rdflib.term.Literal('-'), rdflib.term.Literal('kWh')), (rdflib.term.Literal('consumption_working_sum'), rdflib.term.Literal('This KPI is atomic, it measures the energy consumption used by a single machine over a working period, considering the sum.'), rdflib.term.Literal('-'), rdflib.term.Literal('kWh')), (rdflib.term.Literal('power_avg'), rdflib.term.Literal('This KPI is atomic, it measures the power used by a single machine over a period, considering the average.'), rdflib.term.Literal('-'), rdflib.term.Literal('kW')), (rdflib.term.Literal('power_consumption_efficiency'), rdflib.term.Literal('This indicator calculates the energy efficiency of a specific machine in a given time interval.'), rdflib.term.Literal('working_time_sum/consumption_sum'), rdflib.term.Literal('%')), (rdflib.term.Literal('power_max'), rdflib.term.Literal('This KPI is atomic, it measures the power used by a single machine over a period, considering the maximum.'), rdflib.term.Literal('-'), rdflib.term.Literal('kW')), (rdflib.term.Literal('power_med'), rdflib.term.Literal('This KPI is atomic, it measures the power used by a single machine over a period, considering the median.'), rdflib.term.Literal('-'), rdflib.term.Literal('kW')), (rdflib.term.Literal('power_min'), rdflib.term.Literal('This KPI is atomic, it measures the power used by a single machine over a period, considering the minimum.'), rdflib.term.Literal('-'), rdflib.term.Literal('kW')), (rdflib.term.Literal('power_std'), rdflib.term.Literal('This KPI is atomic, it measures the power used by a single machine over a period, considering the standard deviation.'), rdflib.term.Literal('-'), rdflib.term.Literal('kW')), (rdflib.term.Literal('power_sum'), rdflib.term.Literal('This KPI is atomic, it measures the power used by a single machine over a period, considering the sum.'), rdflib.term.Literal('-'), rdflib.term.Literal('kW'))]\n"
     ]
    }
   ],
   "source": [
    "from langchain_community.graphs import RdfGraph\n",
    "\n",
    "graph = RdfGraph(\n",
    "    source_file=\"docs/sa_ontology.rdf\",\n",
    "    serialization=\"xml\",\n",
    "    standard=\"rdf\"\n",
    ")\n",
    "\n",
    "graph.load_schema()\n",
    "\n",
    "query = '''PREFIX rdf: <http://www.w3.org/1999/02/22-rdf-syntax-ns#>\n",
    "PREFIX rdfs: <http://www.w3.org/2000/01/rdf-schema#>\n",
    "PREFIX owl: <http://www.w3.org/2002/07/owl#>\n",
    "PREFIX sa-ontology: <http://www.semanticweb.org/raffi/ontologies/2024/10/sa-ontology#>\n",
    "\n",
    "SELECT ?id ?description ?formula ?unit_measure\n",
    "WHERE {\n",
    "  ?kpi rdf:type sa-ontology:EnergyKPI_Consumption .\n",
    "  ?kpi sa-ontology:id ?id .\n",
    "  ?kpi sa-ontology:description ?description .\n",
    "  ?kpi sa-ontology:formula ?formula .\n",
    "  ?kpi sa-ontology:unit_measure ?unit_measure .\n",
    "}\n",
    "'''\n",
    "\n",
    "\n",
    "results = graph.query(query)\n",
    "\n",
    "print(results)\n"
   ]
  },
  {
   "cell_type": "code",
   "execution_count": null,
   "metadata": {},
   "outputs": [],
   "source": []
  }
 ],
 "metadata": {
  "kernelspec": {
   "display_name": "SmartApp",
   "language": "python",
   "name": "python3"
  },
  "language_info": {
   "codemirror_mode": {
    "name": "ipython",
    "version": 3
   },
   "file_extension": ".py",
   "mimetype": "text/x-python",
   "name": "python",
   "nbconvert_exporter": "python",
   "pygments_lexer": "ipython3",
   "version": "3.11.10"
  }
 },
 "nbformat": 4,
 "nbformat_minor": 2
}
