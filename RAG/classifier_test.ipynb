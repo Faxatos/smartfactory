{
 "cells": [
  {
   "cell_type": "code",
   "execution_count": 1,
   "metadata": {},
   "outputs": [],
   "source": [
    "import pandas as pd\n",
    "import time"
   ]
  },
  {
   "cell_type": "markdown",
   "metadata": {},
   "source": [
    "Pandas dataset generation"
   ]
  },
  {
   "cell_type": "code",
   "execution_count": null,
   "metadata": {},
   "outputs": [
    {
     "data": {
      "text/html": [
       "<div>\n",
       "<style scoped>\n",
       "    .dataframe tbody tr th:only-of-type {\n",
       "        vertical-align: middle;\n",
       "    }\n",
       "\n",
       "    .dataframe tbody tr th {\n",
       "        vertical-align: top;\n",
       "    }\n",
       "\n",
       "    .dataframe thead th {\n",
       "        text-align: right;\n",
       "    }\n",
       "</style>\n",
       "<table border=\"1\" class=\"dataframe\">\n",
       "  <thead>\n",
       "    <tr style=\"text-align: right;\">\n",
       "      <th></th>\n",
       "      <th>text</th>\n",
       "      <th>label</th>\n",
       "    </tr>\n",
       "  </thead>\n",
       "  <tbody>\n",
       "    <tr>\n",
       "      <th>1</th>\n",
       "      <td>Predict the trend of working_time_avg for Lase...</td>\n",
       "      <td>predictions</td>\n",
       "    </tr>\n",
       "    <tr>\n",
       "      <th>2</th>\n",
       "      <td>Predict the future working_time_max for Assemb...</td>\n",
       "      <td>predictions</td>\n",
       "    </tr>\n",
       "    <tr>\n",
       "      <th>3</th>\n",
       "      <td>Predict the future offline_time_min for Assemb...</td>\n",
       "      <td>predictions</td>\n",
       "    </tr>\n",
       "    <tr>\n",
       "      <th>4</th>\n",
       "      <td>Predict the future offline_time_sum for Riveti...</td>\n",
       "      <td>predictions</td>\n",
       "    </tr>\n",
       "    <tr>\n",
       "      <th>5</th>\n",
       "      <td>Can you predict idle_time_avg for Laser Weldin...</td>\n",
       "      <td>predictions</td>\n",
       "    </tr>\n",
       "    <tr>\n",
       "      <th>...</th>\n",
       "      <td>...</td>\n",
       "      <td>...</td>\n",
       "    </tr>\n",
       "    <tr>\n",
       "      <th>60</th>\n",
       "      <td>Can you calculate Machine Usage Trend for Asse...</td>\n",
       "      <td>kpi_calc</td>\n",
       "    </tr>\n",
       "    <tr>\n",
       "      <th>61</th>\n",
       "      <td>Calculate availability for Testing Machine 1 f...</td>\n",
       "      <td>kpi_calc</td>\n",
       "    </tr>\n",
       "    <tr>\n",
       "      <th>62</th>\n",
       "      <td>Calculate MTBM for Riveting Machine 1</td>\n",
       "      <td>kpi_calc</td>\n",
       "    </tr>\n",
       "    <tr>\n",
       "      <th>63</th>\n",
       "      <td>Calculate material cost per unit for Low Capac...</td>\n",
       "      <td>kpi_calc</td>\n",
       "    </tr>\n",
       "    <tr>\n",
       "      <th>64</th>\n",
       "      <td>I want a dashboard to compare different machin...</td>\n",
       "      <td>dashboard</td>\n",
       "    </tr>\n",
       "  </tbody>\n",
       "</table>\n",
       "<p>64 rows × 2 columns</p>\n",
       "</div>"
      ],
      "text/plain": [
       "                                                 text        label\n",
       "1   Predict the trend of working_time_avg for Lase...  predictions\n",
       "2   Predict the future working_time_max for Assemb...  predictions\n",
       "3   Predict the future offline_time_min for Assemb...  predictions\n",
       "4   Predict the future offline_time_sum for Riveti...  predictions\n",
       "5   Can you predict idle_time_avg for Laser Weldin...  predictions\n",
       "..                                                ...          ...\n",
       "60  Can you calculate Machine Usage Trend for Asse...     kpi_calc\n",
       "61  Calculate availability for Testing Machine 1 f...     kpi_calc\n",
       "62              Calculate MTBM for Riveting Machine 1     kpi_calc\n",
       "63  Calculate material cost per unit for Low Capac...     kpi_calc\n",
       "64  I want a dashboard to compare different machin...    dashboard\n",
       "\n",
       "[64 rows x 2 columns]"
      ]
     },
     "execution_count": 2,
     "metadata": {},
     "output_type": "execute_result"
    }
   ],
   "source": [
    "dataset = open(\"val_dataset.txt\",\"r\")\n",
    "text = []\n",
    "label = []\n",
    "for line in dataset.readlines():\n",
    "    if line == \"\\n\":\n",
    "        continue\n",
    "    line = line.split(\":\")\n",
    "    line = [x.strip(\" \\n\") for x in line]\n",
    "    text.append(line[0])\n",
    "    label.append(line[1])\n",
    "dataset = pd.DataFrame({\"text\": text, \"label\": label},index=[i+1 for i in range(len(text))])\n",
    "dataset"
   ]
  },
  {
   "cell_type": "markdown",
   "metadata": {},
   "source": [
    "## Classification test"
   ]
  },
  {
   "cell_type": "markdown",
   "metadata": {},
   "source": [
    "The notebook starts with the communication initializzation to _Gemini_1.5_flash_ API.<br>\n",
    "The prompt classification is made using gemini with few shot learning, using an example for each classification label."
   ]
  },
  {
   "cell_type": "code",
   "execution_count": 3,
   "metadata": {},
   "outputs": [
    {
     "name": "stderr",
     "output_type": "stream",
     "text": [
      "c:\\Users\\gdema\\Anaconda3\\envs\\SA\\lib\\site-packages\\tqdm\\auto.py:21: TqdmWarning: IProgress not found. Please update jupyter and ipywidgets. See https://ipywidgets.readthedocs.io/en/stable/user_install.html\n",
      "  from .autonotebook import tqdm as notebook_tqdm\n"
     ]
    }
   ],
   "source": [
    "from langchain.prompts import FewShotPromptTemplate, PromptTemplate\n",
    "from langchain_google_genai import ChatGoogleGenerativeAI\n",
    "from langchain_openai import ChatOpenAI\n",
    "from dotenv import load_dotenv\n",
    "from tqdm import tqdm\n",
    "load_dotenv()\n",
    "\n",
    "llm = ChatGoogleGenerativeAI(model=\"gemini-1.5-flash\")\n",
    "\n",
    "# few shots examples\n",
    "esempi = [\n",
    "    {\"testo\": \"Predict for the next month the cost_working_avg for Large Capacity Cutting Machine 2 based on last three months data\", \"etichetta\": \"predictions\"},\n",
    "    {\"testo\": \"Generate a new kpi named machine_total_consumption which use some consumption kpis to be calculated\", \"etichetta\": \"new_kpi\"},\n",
    "    {\"testo\": \"Compute the Maintenance Cost for the Riveting Machine 1 for yesterday\", \"etichetta\": \"kpi_calc\"},\n",
    "    {\"testo\": \"Can describe cost_working_avg?\", \"etichetta\": \"kb_q\"},\n",
    "    {\"testo\": \"Make a report about bad_cycles_min for Laser Welding Machine 1 with respect to last week\", \"etichetta\": \"report\"},\n",
    "    {\"testo\": \"Create a dashboard to compare perfomances for different type of machines\", \"etichetta\": \"dashboard\"},\n",
    "]\n",
    "\n",
    "# Few shot prompt creation\n",
    "esempio_template = PromptTemplate(\n",
    "    input_variables=[\"testo\", \"etichetta\"],\n",
    "    template=\"Text: {testo}\\nLabel: {etichetta}\\n\"\n",
    ")\n",
    "\n",
    "few_shot_prompt = FewShotPromptTemplate(\n",
    "    examples=esempi,\n",
    "    example_prompt=esempio_template,\n",
    "    suffix=\"Classify with one of the labels ['predictions', 'new_kpi', 'report', 'kb_q', 'dashboard','kpi_calc'] the following prompt:\\nText: {text_input}\\nLabel:\",\n",
    "    input_variables=[\"text_input\"]\n",
    ")\n"
   ]
  },
  {
   "cell_type": "markdown",
   "metadata": {},
   "source": [
    "Now we can start testing few shot learning on the dataset to fine-tune prompts"
   ]
  },
  {
   "cell_type": "code",
   "execution_count": 4,
   "metadata": {},
   "outputs": [
    {
     "name": "stderr",
     "output_type": "stream",
     "text": [
      "  0%|          | 0/100 [00:00<?, ?it/s]"
     ]
    },
    {
     "name": "stderr",
     "output_type": "stream",
     "text": [
      "100%|██████████| 100.0/100 [04:41<00:00,  2.81s/it]  "
     ]
    },
    {
     "name": "stdout",
     "output_type": "stream",
     "text": [
      "Accuracy = 1.0\n",
      "There have been 0 wrong predictions:\n"
     ]
    },
    {
     "name": "stderr",
     "output_type": "stream",
     "text": [
      "\n"
     ]
    }
   ],
   "source": [
    "true_pos=0\n",
    "mismatch = []\n",
    "total = dataset.shape[0]\n",
    "with tqdm(total=100) as bar:\n",
    "    for (text,golden_label) in zip(dataset[\"text\"],dataset[\"label\"]):\n",
    "        prompt = few_shot_prompt.format(text_input=text)\n",
    "        out = llm.invoke(prompt)\n",
    "        out=out.content.strip(\"\\n\")\n",
    "        if out == golden_label:\n",
    "            true_pos+=1\n",
    "        else:\n",
    "            mismatch.append(f\"text = {text}\\nTrue label = {golden_label}, predicted = {out}\")\n",
    "        time.sleep(4)\n",
    "        bar.update(100/total)\n",
    "        \n",
    "\n",
    "\n",
    "print(f\"Accuracy = {true_pos/total}\")\n",
    "print(f\"There have been {len(mismatch)} wrong predictions:\")\n",
    "for i in mismatch:\n",
    "    print(mismatch)\n"
   ]
  }
 ],
 "metadata": {
  "kernelspec": {
   "display_name": "SA",
   "language": "python",
   "name": "python3"
  },
  "language_info": {
   "codemirror_mode": {
    "name": "ipython",
    "version": 3
   },
   "file_extension": ".py",
   "mimetype": "text/x-python",
   "name": "python",
   "nbconvert_exporter": "python",
   "pygments_lexer": "ipython3",
   "version": "3.9.20"
  }
 },
 "nbformat": 4,
 "nbformat_minor": 2
}
