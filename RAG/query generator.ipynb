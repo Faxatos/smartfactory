{
 "cells": [
  {
   "cell_type": "code",
   "execution_count": 53,
   "metadata": {},
   "outputs": [
    {
     "data": {
      "text/plain": [
       "True"
      ]
     },
     "execution_count": 53,
     "metadata": {},
     "output_type": "execute_result"
    }
   ],
   "source": [
    "from langchain.prompts import FewShotPromptTemplate, PromptTemplate\n",
    "from langchain_google_genai import ChatGoogleGenerativeAI\n",
    "from langchain_openai import ChatOpenAI\n",
    "from dotenv import load_dotenv\n",
    "from datetime import datetime,timedelta\n",
    "from dateutil.relativedelta import relativedelta\n",
    "from tqdm import tqdm\n",
    "load_dotenv()"
   ]
  },
  {
   "cell_type": "markdown",
   "metadata": {},
   "source": [
    "## Query generator\n",
    "Query generation is needed to make requests to **KPI engine** and **predictor** module.<br>\n",
    "Both communications requires same _url format_ to make requests to the modules.\n"
   ]
  },
  {
   "cell_type": "markdown",
   "metadata": {},
   "source": [
    "The following the url format with an example:<br>\n",
    "http://127.0.0.1:8000/{kpi,predictor}/kpi_id/calculate?optionalParameters<br>\n",
    "<br>\n",
    "Example:<br>\n",
    "_Prompt_: Calculate Energy Cost Working Time for Testing Machine 3 for last month<br>\n",
    "_Query_: http://127.0.0.1:8000/kpi/energy_cost_working_time/calculate?machineType=TestingMachine3&startTime=2024-10-25&endTime=2024-11-25<br><br>\n",
    "The strategy "
   ]
  },
  {
   "cell_type": "markdown",
   "metadata": {},
   "source": [
    "llm restituisce un pattern [nome kpi, nome macchina, intervallo temporale passato, intervallo temporale futuro]\n",
    "i valori degli intervalli temporali nel formato da passare all'url vanno inferiti a partire da quelli nel pattern,\n",
    "nel caso di prediction:\n",
    "1. se non è presente nel prompt un riferimento allìintervallo temporale passato, si default va messo null\n",
    "nel caso di kpi calc l'intervallo temporale futuro è sempre null\n",
    "\n",
    "Per entrambi i casi se si deve utilizzare tutto il dataset -> llm deve restituire il token _null_ in terza posizione\n"
   ]
  },
  {
   "cell_type": "code",
   "execution_count": null,
   "metadata": {},
   "outputs": [],
   "source": [
    "\n",
    "llm = ChatGoogleGenerativeAI(model=\"gemini-1.5-flash\")\n",
    "# for the few shot examples to be effective, instead of updating their 'data' field dinamically with the context of the current day of execution to let llm fill data with absolute timedata, llm must fill data with relative time data\n",
    "TODAY = datetime.now()\n",
    "# few shots examples\n",
    "esempi = [\n",
    "    {\"testo\": \"Predict for tomorrow the Energy Cost Working Time for Large Capacity Cutting Machine 2 based on last week data\", \"data\": f\"Energy Cost Working Time, Large Capacity Cutting Machine 2, weeks=1, days=1\" },\n",
    "    {\"testo\": \"Predict the future Power Consumption Efficiency for Riveting Machine 2 over the next 5 days\",\"data\": f\"Power Consumption Efficiency, Riveting Machine 2, NULL, days=5\"},\n",
    "    {\"testo\": \"Can you calculate Machine Utilization Rate for Assembly Machine 1 for yesterday?\", \"data\": f\"Machine Utilization Rate,  Assembly Machine 1, days=1, NULL\"},\n",
    "    {\"testo\": \"Calculate Machine Usage Trend for Laser Welding Machine 1 for today\", \"data\": f\"Machine Usage Trend, Laser Welding Machine 1, days=0, NULL\"},\n",
    "    {\"testo\": \"Calculate for the last 2 weeks Cost Per Unit for Laser Welding Machine 2\", \"data\": f\"Cost Per Unit, Laser Welding Machine 2, weeks=2, NULL\"},\n",
    "    {\"testo\": \"Can you predict for the future 3 weeks the Energy Cost Working Time for Large Capacity Cutting Machine 2 based on 24/10/2024 data?\", \"data\": f\"Energy Cost Working Time, Large Capacity Cutting Machine 2, 2024-10-24->2024-10-24, weeks=3\"}\n",
    "    \n",
    "]\n",
    "\n",
    "\n",
    "# Few shot prompt creation\n",
    "esempio_template = PromptTemplate(\n",
    "    input_variables=[\"testo\", \"data\"],\n",
    "    template=\"Text: {testo}\\nData: {data}\\n\"\n",
    ")\n",
    "\n",
    "few_shot_prompt = FewShotPromptTemplate(\n",
    "    examples=esempi,\n",
    "    example_prompt=esempio_template,\n",
    "    suffix= \"Fill the Data field for the following prompt \\nText: {text_input}\\nData:\\nThe filled field needs to contain four values as the examples above\",\n",
    "    input_variables=[\"text_input\"]\n",
    ")\n"
   ]
  },
  {
   "cell_type": "markdown",
   "metadata": {},
   "source": [
    "in fase di parsing, il prediction ha solo un end date in più per la prediction, perchè lo starting date è in automatico il giorno corrente, inoltre è noto lo starting date dei dati che abbiamo a disposizione; inoltre ogni intervallo può essere oltre che appunto un intervallo di tempo anche un singolo giorno, in quel caso viene parsato con stessso valore di start ed ending date. Il parser eventualmente traduce il nome di kpi in id"
   ]
  },
  {
   "cell_type": "code",
   "execution_count": 203,
   "metadata": {},
   "outputs": [
    {
     "name": "stdout",
     "output_type": "stream",
     "text": [
      "Data: Operative Time, Laser Welding Machine 1, days=4, NULL\n",
      "\n"
     ]
    }
   ],
   "source": [
    "text = \"calculate for last 4 days Operative Time for Laser Welding Machine 1\"\n",
    "prompt = few_shot_prompt.format(text_input= text)\n",
    "data = llm.invoke(prompt)\n",
    "print(data.content)"
   ]
  },
  {
   "cell_type": "markdown",
   "metadata": {},
   "source": [
    "### Test \n",
    "There have been conducted some test with very good results, using as input prompt with different temporal context (today/tomorrow/yesterday/days/months/weeks/years/specific month/intervall of date/specific date)."
   ]
  },
  {
   "cell_type": "markdown",
   "metadata": {},
   "source": [
    "Parser"
   ]
  },
  {
   "cell_type": "code",
   "execution_count": 204,
   "metadata": {},
   "outputs": [],
   "source": [
    "def toDate(data):\n",
    "    TODAY = datetime.now()\n",
    "    # first data available is from 2024-03-01\n",
    "    FIRST_DAY = \"2024-03-01\"\n",
    "\n",
    "    if \"->\" in data:\n",
    "        date=data\n",
    "    # NULL -> all dataset use case\n",
    "    elif data == \"NULL\":\n",
    "        date=f\"{FIRST_DAY}->{(TODAY - relativedelta(days=1)).strftime('%Y-%m-%d')}\"\n",
    "    else:\n",
    "        temp =data.split(\"=\")\n",
    "        _type = temp[0]\n",
    "        _value = int(temp[1])\n",
    "        delta = 0\n",
    "        if _type == \"days\":\n",
    "            delta= relativedelta(days=_value) \n",
    "        elif _type ==\"weeks\":\n",
    "            delta= relativedelta(weeks=_value)\n",
    "        elif _type ==\"months\":\n",
    "            delta= relativedelta(months=_value)\n",
    "        elif _type ==\"years\":\n",
    "            delta= relativedelta(years=_value)\n",
    "        #'today' use case\n",
    "        if delta == relativedelta():\n",
    "            date=f\"{(TODAY - delta).strftime('%Y-%m-%d')}->{(TODAY - delta).strftime('%Y-%m-%d')}\"\n",
    "        else:\n",
    "            date=f\"{(TODAY - delta).strftime('%Y-%m-%d')}->{(TODAY - relativedelta(days=1)).strftime('%Y-%m-%d')}\"\n",
    "    return date"
   ]
  },
  {
   "cell_type": "code",
   "execution_count": 205,
   "metadata": {},
   "outputs": [
    {
     "name": "stdout",
     "output_type": "stream",
     "text": [
      "http://127.0.0.1:8000/kpi_calc/operative_time/calculate?machineType=LaserWeldingMachine1&startTime=2024-11-22&endTime=2024-11-25\n"
     ]
    }
   ],
   "source": [
    "label = \"kpi_calc\"\n",
    "\n",
    "data=data.content.strip(\"\\n\").split(\": \")[1].split(\", \")\n",
    "kpi_id = data[0].lower().replace(\" \",\"_\")\n",
    "machine_id = data[1].replace(\" \",\"\")\n",
    "# first couple of dates parsing\n",
    "date=toDate(data[2]).split(\"->\")\n",
    "url=f\"http://127.0.0.1:8000/{label}/{kpi_id}/calculate?machineType={machine_id}&startTime={date[0]}&endTime={date[1]}\"\n",
    "if label == \"predictions\":\n",
    "    # second couple of dates parsing\n",
    "    # a data labelled as 'predictor' should not be 'NULL', this (before in the pipeline) should be checked to be true \n",
    "    dateP = toDate(data[3]).split(\"->\")\n",
    "    url+=f\"&startTimeP={dateP[0]}&endTimeP={dateP[1]}\"\n",
    "\n",
    "print(url)"
   ]
  }
 ],
 "metadata": {
  "kernelspec": {
   "display_name": "SA",
   "language": "python",
   "name": "python3"
  },
  "language_info": {
   "codemirror_mode": {
    "name": "ipython",
    "version": 3
   },
   "file_extension": ".py",
   "mimetype": "text/x-python",
   "name": "python",
   "nbconvert_exporter": "python",
   "pygments_lexer": "ipython3",
   "version": "3.9.20"
  }
 },
 "nbformat": 4,
 "nbformat_minor": 2
}
