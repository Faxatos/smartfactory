{
 "cells": [
  {
   "cell_type": "code",
   "execution_count": 1,
   "metadata": {},
   "outputs": [],
   "source": [
    "from IPython.display import display\n",
    "import pandas as pd\n",
    "\n",
    "pd.set_option('display.max_rows', None)\n",
    "\n",
    "with open(\"../smart_app_data.pkl\", \"rb\") as file:\n",
    "    df = pd.read_pickle(file)"
   ]
  },
  {
   "cell_type": "code",
   "execution_count": 2,
   "metadata": {},
   "outputs": [],
   "source": [
    "class kpi_engine:\n",
    "    def sum_kpi(kpi, df, machine_id, start_time, end_time):\n",
    "        fd = df     # fd = filtered dataframe\n",
    "        fd = fd[fd['asset_id'] == machine_id]\n",
    "        fd = fd[fd['kpi'] == kpi]\n",
    "        fd = fd[(fd['time'] >= start_time) & (fd['time'] <= end_time)]\n",
    "        print(f\"KPI calculated as sum on machine {machine_id} ({fd.iloc[0, 2]}) by summing {kpi} from {start_time} to {end_time}. Result is {fd['sum'].sum()}.\")\n",
    "        return fd['sum'].sum()\n",
    "\n",
    "\n",
    "    def avg_kpi(kpi, df, machine_id, start_time, end_time):\n",
    "        fd = df     # fd = filtered dataframe\n",
    "        fd = fd[fd['asset_id'] == machine_id]\n",
    "        fd = fd[fd['kpi'] == kpi]\n",
    "        fd = fd[(fd['time'] >= start_time) & (fd['time'] <= end_time)]\n",
    "        print(f\"KPI calculated as average on machine {machine_id} ({fd.iloc[0, 2]}) by averaging {kpi}s from {start_time} to {end_time}. Result is {fd['avg'].sum()/fd.shape[0]}.\")\n",
    "        return fd['avg'].sum()/fd.shape[0]"
   ]
  },
  {
   "cell_type": "code",
   "execution_count": 3,
   "metadata": {},
   "outputs": [
    {
     "name": "stdout",
     "output_type": "stream",
     "text": [
      "KPI calculated as sum on machine ast-06kbod797nnp (Testing Machine 3) by summing working_time from 2024-09-01T00:00:00Z to 2024-09-30T00:00:00Z. Result is 610500.0.\n",
      "KPI calculated as average on machine ast-xpimckaf3dlf (Laser Cutter) by averaging powers from 2024-04-07T00:00:00Z to 2024-07-09T00:00:00Z. Result is 0.00010249554799145031.\n"
     ]
    },
    {
     "data": {
      "text/plain": [
       "np.float64(0.00010249554799145031)"
      ]
     },
     "execution_count": 3,
     "metadata": {},
     "output_type": "execute_result"
    }
   ],
   "source": [
    "kpi_engine.sum_kpi(kpi='working_time', df=df, machine_id='ast-06kbod797nnp', start_time='2024-09-01T00:00:00Z', end_time='2024-09-30T00:00:00Z')\n",
    "\n",
    "kpi_engine.avg_kpi(kpi='power', df=df, machine_id='ast-xpimckaf3dlf', start_time='2024-04-07T00:00:00Z', end_time='2024-07-09T00:00:00Z')"
   ]
  }
 ],
 "metadata": {
  "kernelspec": {
   "display_name": ".venv",
   "language": "python",
   "name": "python3"
  },
  "language_info": {
   "codemirror_mode": {
    "name": "ipython",
    "version": 3
   },
   "file_extension": ".py",
   "mimetype": "text/x-python",
   "name": "python",
   "nbconvert_exporter": "python",
   "pygments_lexer": "ipython3",
   "version": "3.12.7"
  }
 },
 "nbformat": 4,
 "nbformat_minor": 2
}
