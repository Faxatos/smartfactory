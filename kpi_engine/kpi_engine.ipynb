{
 "cells": [
  {
   "cell_type": "code",
   "execution_count": 66,
   "metadata": {},
   "outputs": [],
   "source": [
    "from IPython.display import display\n",
    "import pandas as pd\n",
    "\n",
    "pd.set_option('display.max_rows', None)\n",
    "\n",
    "with open(\"../smart_app_data.pkl\", \"rb\") as file:\n",
    "    df = pd.read_pickle(file)"
   ]
  },
  {
   "cell_type": "code",
   "execution_count": 87,
   "metadata": {},
   "outputs": [],
   "source": [
    "class kpi_dataframe_filter:\n",
    "    def filter_dataframe_by_machine(df, machine_id):\n",
    "        if machine_id != 'all_machines':\n",
    "            return df[df['asset_id'] == machine_id]\n",
    "        return df\n",
    "\n",
    "    def filter_dataframe_by_kpi(df, kpi):\n",
    "        return df[df['kpi'] == kpi]\n",
    "\n",
    "    def filter_dataframe_by_time(df, start_time, end_time):\n",
    "        return df[(df['time'] >= start_time) & (df['time'] <= end_time)]"
   ]
  },
  {
   "cell_type": "code",
   "execution_count": 88,
   "metadata": {},
   "outputs": [],
   "source": [
    "class kpi_dataframe_utils:\n",
    "    def sum_kpi(kpi, df, machine_id, start_time, end_time):\n",
    "        fd = df     # fd = filtered dataframe\n",
    "        fd = kpi_dataframe_filter.filter_dataframe_by_machine(fd, machine_id)\n",
    "        fd = kpi_dataframe_filter.filter_dataframe_by_kpi(fd, kpi)\n",
    "        fd = kpi_dataframe_filter.filter_dataframe_by_time(fd, start_time, end_time)\n",
    "        '''\n",
    "        if machine_id != 'all_machines': \n",
    "            print(f\"KPI calculated as sum on machine {machine_id} ({fd.iloc[0, 2]}) by summing {kpi} from {start_time} to {end_time}. Result is {fd['sum'].sum()}.\")\n",
    "        else: \n",
    "            print(f\"KPI calculated as sum on machine {machine_id} by summing {kpi} from {start_time} to {end_time}. Result is {fd['sum'].sum()}.\")\n",
    "        '''\n",
    "            \n",
    "        return fd['sum'].sum()\n",
    "\n",
    "\n",
    "    def avg_kpi(kpi, df, machine_id, start_time, end_time):\n",
    "        fd = df     # fd = filtered dataframe\n",
    "        fd = kpi_dataframe_filter.filter_dataframe_by_machine(fd, machine_id)\n",
    "        fd = kpi_dataframe_filter.filter_dataframe_by_kpi(fd, kpi)\n",
    "        fd = kpi_dataframe_filter.filter_dataframe_by_time(fd, start_time, end_time)\n",
    "        '''\n",
    "        print(f\"KPI calculated as average on machine {machine_id} ({fd.iloc[0, 2]}) by averaging {kpi}s from {start_time} to {end_time}. Result is {fd['avg'].sum()/fd.shape[0]}.\")\n",
    "        '''\n",
    "        return fd['avg'].sum()/fd.shape[0]\n",
    "\n",
    "    def max_kpi(kpi, df, machine_id, start_time, end_time):\n",
    "        fd = df #fd  = filtered dataframe\n",
    "        fd = kpi_dataframe_filter.filter_dataframe_by_machine(fd, machine_id)\n",
    "        fd = kpi_dataframe_filter.filter_dataframe_by_kpi(fd, kpi)\n",
    "        fd = kpi_dataframe_filter.filter_dataframe_by_time(fd, start_time, end_time)\n",
    "        '''\n",
    "        print(f\"KPI calculated on machine {machine_id} ({fd.iloc[0, 2]}) as maximum {kpi}s from {start_time} to {end_time}. Result is {fd['sum'].max()}.\")\n",
    "        '''\n",
    "        return fd['sum'].max()\n",
    "\n",
    "\n",
    "    def min_kpi(kpi, df, machine_id, start_time, end_time):\n",
    "        fd = df #fd  = filtered dataframe\n",
    "        fd = kpi_dataframe_filter.filter_dataframe_by_machine(fd, machine_id)\n",
    "        fd = kpi_dataframe_filter.filter_dataframe_by_kpi(fd, kpi)\n",
    "        fd = kpi_dataframe_filter.filter_dataframe_by_time(fd, start_time, end_time)\n",
    "        '''\n",
    "        print(f\"KPI calculated on machine {machine_id} ({fd.iloc[0, 2]}) as minimum {kpi}s from {start_time} to {end_time}. Result is {fd['sum'].min()}.\")\n",
    "        '''\n",
    "        fd['sum'].min()"
   ]
  },
  {
   "cell_type": "code",
   "execution_count": 127,
   "metadata": {},
   "outputs": [],
   "source": [
    "class kpi_engine:\n",
    "    def energy_cost_savings(df, machine_id, time):\n",
    "        fd = df\n",
    "        fd = kpi_dataframe_filter.filter_dataframe_by_machine(fd, machine_id)\n",
    "        fd = kpi_dataframe_filter.filter_dataframe_by_kpi(fd, 'cost')\n",
    "\n",
    "        index = fd['time'].str.contains(time, na=False).idxmax()\n",
    "        ## if index is the first of the dataframe there is no previous time measurement, return error\n",
    "        return fd.at[fd.index[fd.index.get_loc(index) - 1], 'sum'] - fd.at[index, 'sum']\n",
    "\n",
    "    def energy_cost_working_time(df, start_time, end_time):\n",
    "        fd = df\n",
    "        total_energy_cost = kpi_dataframe_utils.sum_kpi(df=fd, kpi='cost_working', machine_id='all_machines', start_time=start_time, end_time=end_time)\n",
    "        total_working_time = kpi_dataframe_filter.filter_dataframe_by_time(df=fd, start_time=start_time, end_time=end_time)['time'].nunique() * 24\n",
    "        return  total_energy_cost / total_working_time\n",
    "\n",
    "    def energy_cost_idle_time(df, start_time, end_time):\n",
    "        fd = df\n",
    "        total_energy_cost = kpi_dataframe_utils.sum_kpi(df=fd, kpi='cost_idle', machine_id='all_machines', start_time=start_time, end_time=end_time)\n",
    "        total_working_time = kpi_dataframe_filter.filter_dataframe_by_time(df=fd, start_time=start_time, end_time=end_time)['time'].nunique() * 24\n",
    "        return  total_energy_cost / total_working_time\n",
    "\n",
    "    def energy_cost_per_unit(df, machine_id, start_time, end_time):\n",
    "        fd = df\n",
    "        total_working_cost = kpi_dataframe_utils.sum_kpi(df=fd, kpi='cost_working', machine_id=machine_id, start_time=start_time, end_time=end_time)\n",
    "        total_idle_cost = kpi_dataframe_utils.sum_kpi(df=fd, kpi='cost_idle', machine_id=machine_id, start_time=start_time, end_time=end_time)\n",
    "        return total_working_cost + total_idle_cost"
   ]
  },
  {
   "cell_type": "code",
   "execution_count": 130,
   "metadata": {},
   "outputs": [
    {
     "name": "stdout",
     "output_type": "stream",
     "text": [
      "0.11139749924508427\n"
     ]
    }
   ],
   "source": [
    "'''\n",
    "kpi_engine.sum_kpi(kpi='cost_working', df=df, machine_id='all_machines', start_time='' , end_time= '9')\n",
    "\n",
    "kpi_engine.avg_kpi(kpi='power', df=df, machine_id='ast-xpimckaf3dlf', start_time='2024-04-07T00:00:00Z', end_time='2024-07-09T00:00:00Z')\n",
    "\n",
    "kpi_engine.max_kpi(kpi='bad_cycles',df=df, machine_id='ast-xpimckaf3dlf',start_time='2024-04-07T00:00:00Z', end_time='2024-07-09T00:00:00Z')\n",
    "\n",
    "kpi_engine.min_kpi(kpi='good_cycles',df=df, machine_id='ast-xpimckaf3dlf',start_time='2024-04-07T00:00:00Z', end_time='2024-07-09T00:00:00Z')\n",
    "'''\n",
    "\n",
    "print(kpi_engine.energy_cost_per_unit(df=df, machine_id='ast-06kbod797nnp', start_time='2024-08-28T00:00:00Z', end_time='2024-09-27T00:00:00Z'))"
   ]
  }
 ],
 "metadata": {
  "kernelspec": {
   "display_name": ".venv",
   "language": "python",
   "name": "python3"
  },
  "language_info": {
   "codemirror_mode": {
    "name": "ipython",
    "version": 3
   },
   "file_extension": ".py",
   "mimetype": "text/x-python",
   "name": "python",
   "nbconvert_exporter": "python",
   "pygments_lexer": "ipython3",
   "version": "3.12.7"
  }
 },
 "nbformat": 4,
 "nbformat_minor": 2
}
