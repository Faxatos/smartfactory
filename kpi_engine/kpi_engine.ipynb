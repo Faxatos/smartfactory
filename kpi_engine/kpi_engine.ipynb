{
 "cells": [
  {
   "cell_type": "code",
   "execution_count": 7,
   "metadata": {},
   "outputs": [],
   "source": [
    "from IPython.display import display\n",
    "import pandas as pd\n",
    "\n",
    "pd.set_option('display.max_rows', None)\n",
    "\n",
    "with open(\"../smart_app_data.pkl\", \"rb\") as file:\n",
    "    df = pd.read_pickle(file)"
   ]
  },
  {
   "cell_type": "code",
   "execution_count": 10,
   "metadata": {},
   "outputs": [],
   "source": [
    "class kpi_engine:\n",
    "\n",
    "    def sum_kpi(kpi, df, machine_id, start_time, end_time):\n",
    "        fd = df     # fd = filtered dataframe\n",
    "\n",
    "        if machine_id != 'all_machines':\n",
    "            fd = fd[fd['asset_id'] == machine_id]\n",
    "\n",
    "        fd = fd[fd['kpi'] == kpi]\n",
    "        fd = fd[(fd['time'] >= start_time) & (fd['time'] <= end_time)]\n",
    "\n",
    "        if machine_id != 'all_machines': \n",
    "            print(f\"KPI calculated as sum on machine {machine_id} ({fd.iloc[0, 2]}) by summing {kpi} from {start_time} to {end_time}. Result is {fd['sum'].sum()}.\")\n",
    "        else: \n",
    "            print(f\"KPI calculated as sum on machine {machine_id} by summing {kpi} from {start_time} to {end_time}. Result is {fd['sum'].sum()}.\")\n",
    "            \n",
    "        return fd['sum'].sum()\n",
    "\n",
    "\n",
    "    def avg_kpi(kpi, df, machine_id, start_time, end_time):\n",
    "        fd = df     # fd = filtered dataframe\n",
    "        fd = fd[fd['asset_id'] == machine_id]\n",
    "        fd = fd[fd['kpi'] == kpi]\n",
    "        fd = fd[(fd['time'] >= start_time) & (fd['time'] <= end_time)]\n",
    "        print(f\"KPI calculated as average on machine {machine_id} ({fd.iloc[0, 2]}) by averaging {kpi}s from {start_time} to {end_time}. Result is {fd['avg'].sum()/fd.shape[0]}.\")\n",
    "        return fd['avg'].sum()/fd.shape[0]\n",
    "    \n",
    "    def max_kpi(kpi, df, machine_id, start_time, end_time):\n",
    "        fd = df #fd  = filtered dataframe\n",
    "        fd = fd[fd['asset_id'] == machine_id]\n",
    "        fd = fd[fd['kpi'] == kpi]\n",
    "        fd = fd[(fd['time'] >= start_time) & (fd['time'] <= end_time)]\n",
    "        print(f\"KPI calculated on machine {machine_id} ({fd.iloc[0, 2]}) as maximum {kpi}s from {start_time} to {end_time}. Result is {fd['sum'].max()}.\")\n",
    "\n",
    "    def min_kpi(kpi, df, machine_id, start_time, end_time):\n",
    "        fd = df #fd  = filtered dataframe\n",
    "        fd = fd[fd['asset_id'] == machine_id]\n",
    "        fd = fd[fd['kpi'] == kpi]\n",
    "        fd = fd[(fd['time'] >= start_time) & (fd['time'] <= end_time)]\n",
    "        print(f\"KPI calculated on machine {machine_id} ({fd.iloc[0, 2]}) as minimum {kpi}s from {start_time} to {end_time}. Result is {fd['sum'].min()}.\")\n",
    "        \n"
   ]
  },
  {
   "cell_type": "code",
   "execution_count": 13,
   "metadata": {},
   "outputs": [
    {
     "name": "stdout",
     "output_type": "stream",
     "text": [
      "KPI calculated as sum on machine all_machines by summing cost_working from  to 9. Result is 9.524630673337505.\n",
      "KPI calculated as average on machine ast-xpimckaf3dlf (Laser Cutter) by averaging powers from 2024-04-07T00:00:00Z to 2024-07-09T00:00:00Z. Result is 0.00010249554799145031.\n",
      "KPI calculated on machine ast-xpimckaf3dlf (Laser Cutter) as maximum bad_cycless from 2024-04-07T00:00:00Z to 2024-07-09T00:00:00Z. Result is 44.0.\n",
      "KPI calculated on machine ast-xpimckaf3dlf (Laser Cutter) as minimum good_cycless from 2024-04-07T00:00:00Z to 2024-07-09T00:00:00Z. Result is 0.0.\n"
     ]
    }
   ],
   "source": [
    "kpi_engine.sum_kpi(kpi='cost_working', df=df, machine_id='all_machines', start_time='' , end_time= '9')\n",
    "\n",
    "kpi_engine.avg_kpi(kpi='power', df=df, machine_id='ast-xpimckaf3dlf', start_time='2024-04-07T00:00:00Z', end_time='2024-07-09T00:00:00Z')\n",
    "\n",
    "kpi_engine.max_kpi(kpi='bad_cycles',df=df, machine_id='ast-xpimckaf3dlf',start_time='2024-04-07T00:00:00Z', end_time='2024-07-09T00:00:00Z')\n",
    "\n",
    "kpi_engine.min_kpi(kpi='good_cycles',df=df, machine_id='ast-xpimckaf3dlf',start_time='2024-04-07T00:00:00Z', end_time='2024-07-09T00:00:00Z')"
   ]
  }
 ],
 "metadata": {
  "kernelspec": {
   "display_name": "Python 3",
   "language": "python",
   "name": "python3"
  },
  "language_info": {
   "codemirror_mode": {
    "name": "ipython",
    "version": 3
   },
   "file_extension": ".py",
   "mimetype": "text/x-python",
   "name": "python",
   "nbconvert_exporter": "python",
   "pygments_lexer": "ipython3",
   "version": "3.10.12"
  }
 },
 "nbformat": 4,
 "nbformat_minor": 2
}
